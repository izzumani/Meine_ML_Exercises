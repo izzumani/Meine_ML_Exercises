{
 "cells": [
  {
   "cell_type": "markdown",
   "metadata": {},
   "source": [
    "- XGBoost: eXtreme Gradient Boosting\n",
    "- LightGBM: Light Gradient Boosting Machine\n",
    "- CatBoost: Categorical Boosting\n",
    "- Scikit-learn: Has two estimators for regression and classification"
   ]
  },
  {
   "cell_type": "code",
   "execution_count": 1,
   "metadata": {},
   "outputs": [],
   "source": [
    "import pandas as pd\n",
    "import seaborn as sns\n",
    "from sklearn.compose import ColumnTransformer\n",
    "from sklearn.ensemble import GradientBoostingClassifier\n",
    "from sklearn.metrics import classification_report\n",
    "from sklearn.model_selection import cross_val_score, train_test_split\n",
    "from sklearn.pipeline import Pipeline\n",
    "from sklearn.preprocessing import OneHotEncoder, StandardScaler"
   ]
  },
  {
   "cell_type": "code",
   "execution_count": 2,
   "metadata": {},
   "outputs": [],
   "source": [
    "# Load the diamonds dataset from Seaborn\n",
    "diamonds = sns.load_dataset(\"diamonds\")\n",
    "\n",
    "# Split data into features and target\n",
    "X = diamonds.drop(\"cut\", axis=1)\n",
    "y = diamonds[\"cut\"]"
   ]
  },
  {
   "cell_type": "code",
   "execution_count": 3,
   "metadata": {},
   "outputs": [],
   "source": [
    "# Split data into train and test sets\n",
    "X_train, X_test, y_train, y_test = train_test_split(\n",
    "   X, y, test_size=0.2, random_state=42\n",
    ")"
   ]
  },
  {
   "cell_type": "code",
   "execution_count": 5,
   "metadata": {},
   "outputs": [],
   "source": [
    "# Define categorical and numerical features\n",
    "categorical_features = X.select_dtypes(\n",
    "   include=[\"object\"]\n",
    ").columns.tolist()\n",
    "\n",
    "numerical_features = X.select_dtypes(\n",
    "   include=[\"float64\", \"int64\"]\n",
    ").columns.tolist()"
   ]
  },
  {
   "cell_type": "code",
   "execution_count": 6,
   "metadata": {},
   "outputs": [],
   "source": [
    "preprocessor = ColumnTransformer(\n",
    "   transformers=[\n",
    "       (\"cat\", OneHotEncoder(), categorical_features),\n",
    "       (\"num\", StandardScaler(), numerical_features),\n",
    "   ]\n",
    ")"
   ]
  },
  {
   "cell_type": "code",
   "execution_count": 10,
   "metadata": {},
   "outputs": [],
   "source": [
    "pipeline = Pipeline(\n",
    "   [\n",
    "       (\"preprocessor\", preprocessor),\n",
    "       (\"classifier\", GradientBoostingClassifier(learning_rate=0.5,random_state=42)),\n",
    "   ]\n",
    ")\n"
   ]
  },
  {
   "cell_type": "code",
   "execution_count": 11,
   "metadata": {},
   "outputs": [],
   "source": [
    "# Perform 5-fold cross-validation\n",
    "cv_scores = cross_val_score(pipeline, X_train, y_train, cv=5)\n",
    "\n",
    "# Fit the model on the training data\n",
    "pipeline.fit(X_train, y_train)\n",
    "\n",
    "# Predict on the test set\n",
    "y_pred = pipeline.predict(X_test)\n",
    "\n",
    "# Generate classification report\n",
    "report = classification_report(y_test, y_pred)\n"
   ]
  },
  {
   "cell_type": "code",
   "execution_count": 12,
   "metadata": {},
   "outputs": [
    {
     "name": "stdout",
     "output_type": "stream",
     "text": [
      "Mean Cross-Validation Accuracy: 0.7601\n",
      "\n",
      "Classification Report:\n",
      "              precision    recall  f1-score   support\n",
      "\n",
      "        Fair       0.68      0.30      0.42       335\n",
      "        Good       0.77      0.59      0.67      1004\n",
      "       Ideal       0.82      0.91      0.86      4292\n",
      "     Premium       0.81      0.82      0.81      2775\n",
      "   Very Good       0.60      0.58      0.59      2382\n",
      "\n",
      "    accuracy                           0.76     10788\n",
      "   macro avg       0.73      0.64      0.67     10788\n",
      "weighted avg       0.76      0.76      0.76     10788\n",
      "\n"
     ]
    }
   ],
   "source": [
    "print(f\"Mean Cross-Validation Accuracy: {cv_scores.mean():.4f}\")\n",
    "print(\"\\nClassification Report:\")\n",
    "print(report)"
   ]
  }
 ],
 "metadata": {
  "kernelspec": {
   "display_name": "venv",
   "language": "python",
   "name": "python3"
  },
  "language_info": {
   "codemirror_mode": {
    "name": "ipython",
    "version": 3
   },
   "file_extension": ".py",
   "mimetype": "text/x-python",
   "name": "python",
   "nbconvert_exporter": "python",
   "pygments_lexer": "ipython3",
   "version": "3.11.5"
  }
 },
 "nbformat": 4,
 "nbformat_minor": 2
}
