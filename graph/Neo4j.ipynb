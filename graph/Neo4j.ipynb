{
 "cells": [
  {
   "cell_type": "code",
   "execution_count": 13,
   "metadata": {},
   "outputs": [],
   "source": [
    "import os\n",
    "from dotenv import load_dotenv\n",
    "load_dotenv()\n",
    "NEO4J_USERNAME = os.getenv(\"NEO4J_USERNAME\")\n",
    "NEO4J_PASSWORD = os.getenv(\"NEO4J_PASSWORD\")\n",
    "NEO4J_URI = os.getenv(\"NEO4J_URI\")"
   ]
  },
  {
   "cell_type": "code",
   "execution_count": 14,
   "metadata": {},
   "outputs": [
    {
     "name": "stdout",
     "output_type": "stream",
     "text": [
      "Connection successful!\n"
     ]
    }
   ],
   "source": [
    "from neo4j import GraphDatabase\n",
    "uri = NEO4J_URI\n",
    "username = NEO4J_USERNAME\n",
    "password = NEO4J_PASSWORD\n",
    "driver = GraphDatabase.driver(uri, auth=(username, password))\n",
    "try:\n",
    "   driver.verify_connectivity()\n",
    "   print(\"Connection successful!\")\n",
    "except Exception as e:\n",
    "   print(f\"Failed to connect to Neo4j: {e}\")"
   ]
  },
  {
   "cell_type": "code",
   "execution_count": 15,
   "metadata": {},
   "outputs": [],
   "source": [
    "# Return the team that won the most number of World Cup matches\n",
    "query = \"\"\"\n",
    "MATCH (t:Team)-[:WON]->(m:Match)-[:PART_OF]->(:Tournament {name: \"FIFA World Cup\"})\n",
    "RETURN t.name AS Team, COUNT(m) AS MatchesWon\n",
    "ORDER BY MatchesWon DESC\n",
    "LIMIT 1\n",
    "\"\"\"\n",
    "records, summary, keys = driver.execute_query(query, database_=\"neo4j\")"
   ]
  },
  {
   "cell_type": "code",
   "execution_count": 16,
   "metadata": {},
   "outputs": [
    {
     "name": "stdout",
     "output_type": "stream",
     "text": [
      "{'Team': 'Brazil', 'MatchesWon': 76}\n"
     ]
    }
   ],
   "source": [
    "for record in records:\n",
    "   print(record.data())"
   ]
  },
  {
   "cell_type": "code",
   "execution_count": 17,
   "metadata": {},
   "outputs": [],
   "source": [
    "query = \"\"\"\n",
    "MATCH (t:Team)-[:WON]->(m:Match)-[:PART_OF]->(:Tournament {name: $tournament})\n",
    "RETURN t.name AS Team, COUNT(m) AS MatchesWon\n",
    "ORDER BY MatchesWon DESC\n",
    "LIMIT $limit\n",
    "\"\"\""
   ]
  },
  {
   "cell_type": "code",
   "execution_count": 18,
   "metadata": {},
   "outputs": [
    {
     "name": "stdout",
     "output_type": "stream",
     "text": [
      "{'Team': 'Germany', 'MatchesWon': 30}\n",
      "{'Team': 'Spain', 'MatchesWon': 28}\n",
      "{'Team': 'France', 'MatchesWon': 23}\n"
     ]
    }
   ],
   "source": [
    "records, summary, keys = driver.execute_query(\n",
    "   query, database_=\"neo4j\", tournament=\"UEFA Euro\", limit=3,\n",
    ")\n",
    "for record in records:\n",
    "   print(record.data())"
   ]
  },
  {
   "cell_type": "code",
   "execution_count": 19,
   "metadata": {},
   "outputs": [],
   "source": [
    "def add_new_coach(driver, coach_name, team_name, start_date, end_date):\n",
    "   query = \"\"\"\n",
    "   MATCH (t:Team {name: $team_name})\n",
    "   CREATE (c:Coach {name: $coach_name})\n",
    "   CREATE (c)-[r:COACHES]->(t)\n",
    "   SET r.start_date = $start_date\n",
    "   SET r.end_date = $end_date\n",
    "   \"\"\"\n",
    "   result = driver.execute_query(\n",
    "       query,\n",
    "       database_=\"neo4j\",\n",
    "       coach_name=coach_name,\n",
    "       team_name=team_name,\n",
    "       start_date=start_date,\n",
    "       end_date=end_date\n",
    "   )\n",
    "   summary = result.summary\n",
    "   print(f\"Added new coach: {coach_name} for existing team {team_name} starting from {start_date}\")\n",
    "   print(f\"Nodes created: {summary.counters.nodes_created}\")\n",
    "   print(f\"Relationships created: {summary.counters.relationships_created}\")"
   ]
  },
  {
   "cell_type": "code",
   "execution_count": 20,
   "metadata": {},
   "outputs": [
    {
     "name": "stdout",
     "output_type": "stream",
     "text": [
      "Added new coach: Lionel Scaloni for existing team Argentina starting from 2018-06-01T00:00:00.000000000\n",
      "Nodes created: 1\n",
      "Relationships created: 1\n"
     ]
    }
   ],
   "source": [
    "from neo4j.time import DateTime\n",
    "add_new_coach(\n",
    "   driver=driver,\n",
    "   coach_name=\"Lionel Scaloni\",\n",
    "   team_name=\"Argentina\",\n",
    "   start_date=DateTime(2018, 6, 1),\n",
    "   end_date=None\n",
    ")"
   ]
  },
  {
   "cell_type": "code",
   "execution_count": 21,
   "metadata": {},
   "outputs": [],
   "source": [
    "def top_goal_scorers(tx, tournament, limit):\n",
    "   query = \"\"\"\n",
    "   MATCH (p:Player)-[s:SCORED_IN]->(m:Match)-[PART_OF]->(t:Tournament)\n",
    "   WHERE t.name = $tournament\n",
    "   RETURN p.name AS Player, COUNT(s) AS Goals\n",
    "   ORDER BY Goals DESC\n",
    "   LIMIT $limit\n",
    "   \"\"\"\n",
    "   result = tx.run(query, tournament=tournament, limit=limit)\n",
    "   return [record.data() for record in result]"
   ]
  },
  {
   "cell_type": "code",
   "execution_count": 22,
   "metadata": {},
   "outputs": [
    {
     "name": "stdout",
     "output_type": "stream",
     "text": [
      "{'Player': 'Miroslav Klose', 'Goals': 16}\n",
      "{'Player': 'Ronaldo', 'Goals': 15}\n",
      "{'Player': 'Gerd Müller', 'Goals': 14}\n",
      "{'Player': 'Lionel Messi', 'Goals': 13}\n",
      "{'Player': 'Just Fontaine', 'Goals': 13}\n"
     ]
    }
   ],
   "source": [
    "with driver.session() as session:\n",
    "   result = session.execute_read(top_goal_scorers, \"FIFA World Cup\", 5)\n",
    "   for record in result:\n",
    "       print(record)"
   ]
  }
 ],
 "metadata": {
  "kernelspec": {
   "display_name": "neo4j_tutorial",
   "language": "python",
   "name": "python3"
  },
  "language_info": {
   "codemirror_mode": {
    "name": "ipython",
    "version": 3
   },
   "file_extension": ".py",
   "mimetype": "text/x-python",
   "name": "python",
   "nbconvert_exporter": "python",
   "pygments_lexer": "ipython3",
   "version": "3.9.21"
  }
 },
 "nbformat": 4,
 "nbformat_minor": 2
}
